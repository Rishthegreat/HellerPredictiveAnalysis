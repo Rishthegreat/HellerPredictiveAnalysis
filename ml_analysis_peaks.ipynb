{
 "cells": [
  {
   "cell_type": "markdown",
   "id": "e818fe93f13f7b0e",
   "metadata": {},
   "source": [
    "### Steps to Take\n",
    "- Break ~30 min data into sets of at least 10 seconds\n",
    "- Run fft on those 10 seconds with a window\n",
    "- Find frequency peaks using some percentage of the max peak\n",
    "- Run fft on entire ambient noise dataset and find peaks\n",
    "- Rearrange the list so that the highest amplitude shows up first\n",
    "- Deep learning input will be input noise and ambient noise\n",
    "- Deep learning will classify noise as being not faulty to faulty on a scale from 0 to 1"
   ]
  },
  {
   "cell_type": "markdown",
   "id": "25812aab0a68fb4b",
   "metadata": {},
   "source": [
    "### Importing Libraries"
   ]
  },
  {
   "cell_type": "code",
   "execution_count": 15,
   "id": "f65c58193e20367b",
   "metadata": {
    "ExecuteTime": {
     "end_time": "2024-06-27T17:22:14.146528Z",
     "start_time": "2024-06-27T17:22:11.781264Z"
    }
   },
   "outputs": [],
   "source": [
    "import pandas as pd\n",
    "import numpy as np\n",
    "from scipy.signal import find_peaks\n",
    "from sklearn.model_selection import train_test_split\n",
    "from tensorflow import keras\n",
    "from tensorflow.keras import layers\n",
    "import matplotlib.pyplot as plt"
   ]
  },
  {
   "cell_type": "markdown",
   "id": "1417a38628fda99c",
   "metadata": {},
   "source": [
    "### Importing Datasets"
   ]
  },
  {
   "cell_type": "code",
   "execution_count": 4,
   "id": "f919c2c7f5eb1632",
   "metadata": {
    "ExecuteTime": {
     "end_time": "2024-06-27T17:23:13.594193Z",
     "start_time": "2024-06-27T17:22:19.976064Z"
    }
   },
   "outputs": [],
   "source": [
    "ambient_df = pd.read_csv('data/AmbientNoiseData.csv')\n",
    "ambient_mic_data = ambient_df['Volt']\n",
    "normal_df = pd.read_csv('data/NormalMotorON.csv')\n",
    "normal_mic_data = normal_df['Volt']\n",
    "faulty_df = pd.read_csv('data/FaultyMotorON.csv')\n",
    "faulty_mic_data = faulty_df['Volt']\n",
    "\n",
    "faulty_df_1 = pd.read_csv('data/ImbalanceMotorON_1.csv')\n",
    "faulty_mic_data_1 = faulty_df_1['Volt0']\n",
    "normal_df_1 = pd.read_csv('data/NormalMotorON_1.csv')\n",
    "normal_mic_data_1 = normal_df_1['Volt0']\n",
    "ambient_df_1 = pd.read_csv('data/NormalMotorOFF_1.csv')\n",
    "ambient_mic_data_1 = ambient_df_1['Volt0']"
   ]
  },
  {
   "cell_type": "markdown",
   "id": "bef13dcfbc201c7f",
   "metadata": {},
   "source": [
    "### Variables Setup & Functions"
   ]
  },
  {
   "cell_type": "code",
   "execution_count": 5,
   "id": "b97608ef6bd393b4",
   "metadata": {
    "ExecuteTime": {
     "end_time": "2024-06-27T17:37:53.794236Z",
     "start_time": "2024-06-27T17:37:53.788152Z"
    }
   },
   "outputs": [],
   "source": [
    "sr = 40000\n",
    "max_freq = 5000\n",
    "peak_detail = 0.03\n",
    "kaiser_beta = 10\n",
    "data_interval = 5 # in seconds\n",
    "ambient_feature_size = 8\n",
    "motor_feature_size = 8\n",
    "\n",
    "sr_1 = 30000\n",
    "\n",
    "def get_fft_peaks(data_input, sorted_ambient_pf, type = None):\n",
    "    data_output = []\n",
    "    for i in range(0, data_input.shape[0]):\n",
    "        mic_data_segment = data_input[i]\n",
    "        segment_window = np.kaiser(len(mic_data_segment), kaiser_beta)\n",
    "        windowed_mic_data_segment = np.multiply(mic_data_segment, segment_window)\n",
    "        segment_fft_result = np.fft.rfft(windowed_mic_data_segment)\n",
    "        segment_freq = np.fft.rfftfreq(len(windowed_mic_data_segment), d=1/sr)\n",
    "        segment_magnitude = np.abs(segment_fft_result)\n",
    "        segment_max_freq_indices = np.where(segment_freq <= max_freq)\n",
    "        short_segment_freq = segment_freq[segment_max_freq_indices]\n",
    "        short_segment_magnitude = segment_magnitude[segment_max_freq_indices]\n",
    "        segment_peaks, _ = find_peaks(short_segment_magnitude, prominence=np.max(short_segment_magnitude)*peak_detail)\n",
    "        segment_peaks_freq = short_segment_freq[segment_peaks]\n",
    "        segment_peaks_magnitude = short_segment_magnitude[segment_peaks]\n",
    "        sorted_pairs = sorted(zip(segment_peaks_magnitude, segment_peaks_freq), reverse=True)\n",
    "        sorted_peaks_freq = [item[1] for item in sorted_pairs]\n",
    "        # normalize the data\n",
    "        sorted_peaks_freq = [x/max_freq for x in sorted_peaks_freq]\n",
    "        if len(sorted_peaks_freq) > motor_feature_size:\n",
    "            sorted_peaks_freq = sorted_peaks_freq[:motor_feature_size]\n",
    "        elif len(sorted_peaks_freq) < motor_feature_size:\n",
    "            sorted_peaks_freq.extend([0] * (motor_feature_size-len(sorted_peaks_freq)))\n",
    "        combined_peaks_freq = sorted_peaks_freq + sorted_ambient_pf\n",
    "        if type == 'normal':\n",
    "            combined_peaks_freq.append(0)\n",
    "        elif type == 'faulty':\n",
    "            combined_peaks_freq.append(1)\n",
    "        # normal motor corresponds to 0 in this model\n",
    "        data_output.append(combined_peaks_freq)\n",
    "    return np.array(data_output)\n",
    "\n",
    "\n",
    "def get_ambient_fft_peaks(a_mic_data, sampling_rate):\n",
    "    ambient_size = a_mic_data.size\n",
    "    ambient_window = np.kaiser(ambient_size, kaiser_beta)\n",
    "    windowed_ambient_mic_data = np.multiply(a_mic_data, ambient_window)\n",
    "    ambient_fft_result = np.fft.rfft(windowed_ambient_mic_data) # no need to normalize because magnitude values are not being used\n",
    "    ambient_freq = np.fft.rfftfreq(ambient_size, d=1/sampling_rate)\n",
    "    ambient_magnitude = np.abs(ambient_fft_result)\n",
    "    ambient_max_freq_indices = np.where(ambient_freq <= max_freq)\n",
    "    short_ambient_freq = ambient_freq[ambient_max_freq_indices]\n",
    "    short_ambient_magnitude = ambient_magnitude[ambient_max_freq_indices]\n",
    "\n",
    "    ambient_peaks, _ = find_peaks(short_ambient_magnitude, prominence=np.max(short_ambient_magnitude)*peak_detail)\n",
    "    ambient_peaks_freq = short_ambient_freq[ambient_peaks]\n",
    "    ambient_peaks_magnitude = short_ambient_magnitude[ambient_peaks]\n",
    "    sorted_ambient_pairs = sorted(zip(ambient_peaks_magnitude, ambient_peaks_freq))\n",
    "    sorted_ambient_peaks_freq = [item[1] for item in sorted_ambient_pairs]\n",
    "    if len(sorted_ambient_peaks_freq) > ambient_feature_size:\n",
    "        sorted_ambient_peaks_freq = sorted_ambient_peaks_freq[:ambient_feature_size]\n",
    "    elif len(sorted_ambient_peaks_freq) < ambient_feature_size:\n",
    "        sorted_ambient_peaks_freq.extend([0]*(ambient_feature_size - len(sorted_ambient_peaks_freq)))\n",
    "    sorted_ambient_peaks_freq = [x/max_freq for x in sorted_ambient_peaks_freq]\n",
    "    return sorted_ambient_peaks_freq\n",
    "\n",
    "def split_in_intervals(mic_data, sampling_rate):\n",
    "    mic_data_size = mic_data.size\n",
    "    interval = sampling_rate*data_interval\n",
    "    remainder = mic_data_size % interval\n",
    "    num_intervals = mic_data_size//interval\n",
    "    split_mic_data = np.array(np.split(mic_data.iloc[:mic_data_size-remainder], num_intervals))\n",
    "    return split_mic_data   "
   ]
  },
  {
   "cell_type": "markdown",
   "id": "bc0ac366139fa75c",
   "metadata": {},
   "source": [
    "### Ambient Noise FFT and Peaks"
   ]
  },
  {
   "cell_type": "markdown",
   "id": "45381572db2f1320",
   "metadata": {},
   "source": [
    "### Ambient Noise Peaks"
   ]
  },
  {
   "cell_type": "code",
   "execution_count": 6,
   "id": "24f6cdec4a068ced",
   "metadata": {
    "ExecuteTime": {
     "end_time": "2024-06-27T17:38:49.483044Z",
     "start_time": "2024-06-27T17:38:49.303391Z"
    }
   },
   "outputs": [],
   "source": [
    "sorted_ambient_peaks_freq = get_ambient_fft_peaks(ambient_mic_data, sr)\n",
    "sorted_ambient_peaks_freq_1 = get_ambient_fft_peaks(ambient_mic_data_1, sr_1)"
   ]
  },
  {
   "cell_type": "markdown",
   "id": "c678ba89d2efeac4",
   "metadata": {},
   "source": [
    "### Splitting Data into Intervals"
   ]
  },
  {
   "cell_type": "code",
   "execution_count": 7,
   "id": "4a9431d32974b75b",
   "metadata": {
    "ExecuteTime": {
     "end_time": "2024-06-27T17:38:50.176612Z",
     "start_time": "2024-06-27T17:38:49.483044Z"
    }
   },
   "outputs": [
    {
     "name": "stderr",
     "output_type": "stream",
     "text": [
      "c:\\Users\\rarora\\DataspellProjects\\PredictiveAnalysis\\venv\\Lib\\site-packages\\numpy\\core\\fromnumeric.py:59: FutureWarning: 'Series.swapaxes' is deprecated and will be removed in a future version. Please use 'Series.transpose' instead.\n",
      "  return bound(*args, **kwds)\n"
     ]
    }
   ],
   "source": [
    "normal_split_mic_data = split_in_intervals(normal_mic_data, sr)\n",
    "faulty_split_mic_data = split_in_intervals(faulty_mic_data, sr)\n",
    "\n",
    "normal_split_mic_data_1 = split_in_intervals(normal_mic_data_1, sr_1)\n",
    "faulty_split_mic_data_1 = split_in_intervals(faulty_mic_data_1, sr_1)"
   ]
  },
  {
   "cell_type": "markdown",
   "id": "781c9d51b66e00b6",
   "metadata": {},
   "source": [
    "### Intervals Train-Test Split"
   ]
  },
  {
   "cell_type": "code",
   "execution_count": 8,
   "id": "c22bcdcd51b5add5",
   "metadata": {
    "ExecuteTime": {
     "end_time": "2024-06-27T17:38:50.382917Z",
     "start_time": "2024-06-27T17:38:50.177712Z"
    }
   },
   "outputs": [],
   "source": [
    "normal_data_train, normal_data_test = train_test_split(normal_split_mic_data, test_size=0.2)\n",
    "faulty_data_train, faulty_data_test = train_test_split(faulty_split_mic_data, test_size=0.2)\n",
    "\n",
    "normal_data_train_1, normal_data_test_1 = train_test_split(normal_split_mic_data_1, test_size=0.2)\n",
    "faulty_data_train_1, faulty_data_test_1 = train_test_split(faulty_split_mic_data_1, test_size=0.2)"
   ]
  },
  {
   "cell_type": "markdown",
   "id": "182790c61b1f454e",
   "metadata": {},
   "source": [
    "### FFT and Peaks for Training Data"
   ]
  },
  {
   "cell_type": "code",
   "execution_count": 9,
   "id": "3b885395795fb44b",
   "metadata": {
    "ExecuteTime": {
     "end_time": "2024-06-27T17:38:54.788420Z",
     "start_time": "2024-06-27T17:38:50.382917Z"
    }
   },
   "outputs": [],
   "source": [
    "normal_train_fft_peaks = get_fft_peaks(normal_data_train, sorted_ambient_peaks_freq ,'normal')\n",
    "faulty_train_fft_peaks = get_fft_peaks(faulty_data_train, sorted_ambient_peaks_freq, 'faulty')\n",
    "\n",
    "\n",
    "normal_train_fft_peaks_1 = get_fft_peaks(normal_data_train_1, sorted_ambient_peaks_freq_1, 'normal')\n",
    "faulty_train_fft_peaks_1 = get_fft_peaks(faulty_data_train_1, sorted_ambient_peaks_freq_1, 'faulty')"
   ]
  },
  {
   "cell_type": "markdown",
   "id": "6b9d2aef0a574473",
   "metadata": {},
   "source": [
    "### Combining to Get Full Training Dataset"
   ]
  },
  {
   "cell_type": "code",
   "execution_count": 10,
   "id": "f8b9a8627e24c64e",
   "metadata": {
    "ExecuteTime": {
     "end_time": "2024-06-27T17:38:58.679740Z",
     "start_time": "2024-06-27T17:38:58.672185Z"
    }
   },
   "outputs": [],
   "source": [
    "training_set = np.concatenate(\n",
    "    (\n",
    "        normal_train_fft_peaks, \n",
    "        faulty_train_fft_peaks, \n",
    "        normal_train_fft_peaks_1, \n",
    "        faulty_train_fft_peaks_1,\n",
    "    ), \n",
    "    axis=0)\n",
    "rand = np.random.default_rng(200)\n",
    "rand.shuffle(training_set)\n",
    "x_train = training_set[:, :-1]\n",
    "y_train = training_set[:, -1]"
   ]
  },
  {
   "cell_type": "markdown",
   "id": "7172c4cab8755046",
   "metadata": {},
   "source": [
    "### FFT for Testing Dataset"
   ]
  },
  {
   "cell_type": "code",
   "execution_count": 11,
   "id": "74e734f2417ff45f",
   "metadata": {
    "ExecuteTime": {
     "end_time": "2024-06-27T17:39:00.739455Z",
     "start_time": "2024-06-27T17:38:58.680906Z"
    }
   },
   "outputs": [],
   "source": [
    "normal_test_fft_peaks = get_fft_peaks(normal_data_test, sorted_ambient_peaks_freq ,'normal')\n",
    "faulty_test_fft_peaks = get_fft_peaks(faulty_data_test, sorted_ambient_peaks_freq, 'faulty')\n",
    "\n",
    "normal_test_fft_peaks_1 = get_fft_peaks(normal_data_test_1, sorted_ambient_peaks_freq_1, 'normal')\n",
    "faulty_test_fft_peaks_1 = get_fft_peaks(faulty_data_test_1, sorted_ambient_peaks_freq_1, 'faulty')"
   ]
  },
  {
   "cell_type": "markdown",
   "id": "5c4a581b54cb308c",
   "metadata": {},
   "source": [
    "### Combining to get Full Testing Dataset"
   ]
  },
  {
   "cell_type": "code",
   "execution_count": 12,
   "id": "61845001f8ef0ba1",
   "metadata": {
    "ExecuteTime": {
     "end_time": "2024-06-27T17:39:00.746478Z",
     "start_time": "2024-06-27T17:39:00.739455Z"
    }
   },
   "outputs": [],
   "source": [
    "testing_set = np.concatenate(\n",
    "    (\n",
    "        normal_test_fft_peaks, \n",
    "        faulty_test_fft_peaks, \n",
    "        normal_test_fft_peaks_1, \n",
    "        faulty_test_fft_peaks_1,\n",
    "    ), \n",
    "    axis=0)\n",
    "rand = np.random.default_rng(200)\n",
    "rand.shuffle(testing_set)\n",
    "x_test = testing_set[:, :-1]\n",
    "y_test = testing_set[:, -1]"
   ]
  },
  {
   "cell_type": "markdown",
   "id": "82e8ff2fdf88657b",
   "metadata": {},
   "source": [
    "### Training the Model"
   ]
  },
  {
   "cell_type": "code",
   "execution_count": 22,
   "id": "c53540adf43b8fe7",
   "metadata": {
    "ExecuteTime": {
     "end_time": "2024-06-27T17:47:47.505552Z",
     "start_time": "2024-06-27T17:47:43.335079Z"
    }
   },
   "outputs": [
    {
     "name": "stdout",
     "output_type": "stream",
     "text": [
      "Epoch 1/100\n",
      "\u001b[1m36/36\u001b[0m \u001b[32m━━━━━━━━━━━━━━━━━━━━\u001b[0m\u001b[37m\u001b[0m \u001b[1m1s\u001b[0m 4ms/step - accuracy: 0.5000 - loss: 0.6921 - val_accuracy: 0.6021 - val_loss: 0.6902\n",
      "Epoch 2/100\n",
      "\u001b[1m36/36\u001b[0m \u001b[32m━━━━━━━━━━━━━━━━━━━━\u001b[0m\u001b[37m\u001b[0m \u001b[1m0s\u001b[0m 2ms/step - accuracy: 0.5796 - loss: 0.6895 - val_accuracy: 0.6021 - val_loss: 0.6887\n",
      "Epoch 3/100\n",
      "\u001b[1m36/36\u001b[0m \u001b[32m━━━━━━━━━━━━━━━━━━━━\u001b[0m\u001b[37m\u001b[0m \u001b[1m0s\u001b[0m 2ms/step - accuracy: 0.5859 - loss: 0.6881 - val_accuracy: 0.5986 - val_loss: 0.6868\n",
      "Epoch 4/100\n",
      "\u001b[1m36/36\u001b[0m \u001b[32m━━━━━━━━━━━━━━━━━━━━\u001b[0m\u001b[37m\u001b[0m \u001b[1m0s\u001b[0m 1ms/step - accuracy: 0.6102 - loss: 0.6862 - val_accuracy: 0.5986 - val_loss: 0.6844\n",
      "Epoch 5/100\n",
      "\u001b[1m36/36\u001b[0m \u001b[32m━━━━━━━━━━━━━━━━━━━━\u001b[0m\u001b[37m\u001b[0m \u001b[1m0s\u001b[0m 2ms/step - accuracy: 0.6026 - loss: 0.6849 - val_accuracy: 0.6055 - val_loss: 0.6816\n",
      "Epoch 6/100\n",
      "\u001b[1m36/36\u001b[0m \u001b[32m━━━━━━━━━━━━━━━━━━━━\u001b[0m\u001b[37m\u001b[0m \u001b[1m0s\u001b[0m 2ms/step - accuracy: 0.6023 - loss: 0.6802 - val_accuracy: 0.6159 - val_loss: 0.6779\n",
      "Epoch 7/100\n",
      "\u001b[1m36/36\u001b[0m \u001b[32m━━━━━━━━━━━━━━━━━━━━\u001b[0m\u001b[37m\u001b[0m \u001b[1m0s\u001b[0m 2ms/step - accuracy: 0.6320 - loss: 0.6764 - val_accuracy: 0.6159 - val_loss: 0.6739\n",
      "Epoch 8/100\n",
      "\u001b[1m36/36\u001b[0m \u001b[32m━━━━━━━━━━━━━━━━━━━━\u001b[0m\u001b[37m\u001b[0m \u001b[1m0s\u001b[0m 3ms/step - accuracy: 0.6397 - loss: 0.6728 - val_accuracy: 0.6436 - val_loss: 0.6686\n",
      "Epoch 9/100\n",
      "\u001b[1m36/36\u001b[0m \u001b[32m━━━━━━━━━━━━━━━━━━━━\u001b[0m\u001b[37m\u001b[0m \u001b[1m0s\u001b[0m 2ms/step - accuracy: 0.6708 - loss: 0.6666 - val_accuracy: 0.6747 - val_loss: 0.6622\n",
      "Epoch 10/100\n",
      "\u001b[1m36/36\u001b[0m \u001b[32m━━━━━━━━━━━━━━━━━━━━\u001b[0m\u001b[37m\u001b[0m \u001b[1m0s\u001b[0m 2ms/step - accuracy: 0.6774 - loss: 0.6592 - val_accuracy: 0.6851 - val_loss: 0.6553\n",
      "Epoch 11/100\n",
      "\u001b[1m36/36\u001b[0m \u001b[32m━━━━━━━━━━━━━━━━━━━━\u001b[0m\u001b[37m\u001b[0m \u001b[1m0s\u001b[0m 2ms/step - accuracy: 0.6998 - loss: 0.6536 - val_accuracy: 0.6851 - val_loss: 0.6480\n",
      "Epoch 12/100\n",
      "\u001b[1m36/36\u001b[0m \u001b[32m━━━━━━━━━━━━━━━━━━━━\u001b[0m\u001b[37m\u001b[0m \u001b[1m0s\u001b[0m 2ms/step - accuracy: 0.7119 - loss: 0.6407 - val_accuracy: 0.6886 - val_loss: 0.6399\n",
      "Epoch 13/100\n",
      "\u001b[1m36/36\u001b[0m \u001b[32m━━━━━━━━━━━━━━━━━━━━\u001b[0m\u001b[37m\u001b[0m \u001b[1m0s\u001b[0m 1ms/step - accuracy: 0.6826 - loss: 0.6404 - val_accuracy: 0.6886 - val_loss: 0.6321\n",
      "Epoch 14/100\n",
      "\u001b[1m36/36\u001b[0m \u001b[32m━━━━━━━━━━━━━━━━━━━━\u001b[0m\u001b[37m\u001b[0m \u001b[1m0s\u001b[0m 1ms/step - accuracy: 0.6880 - loss: 0.6340 - val_accuracy: 0.6886 - val_loss: 0.6226\n",
      "Epoch 15/100\n",
      "\u001b[1m36/36\u001b[0m \u001b[32m━━━━━━━━━━━━━━━━━━━━\u001b[0m\u001b[37m\u001b[0m \u001b[1m0s\u001b[0m 1ms/step - accuracy: 0.7099 - loss: 0.6134 - val_accuracy: 0.7197 - val_loss: 0.6131\n",
      "Epoch 16/100\n",
      "\u001b[1m36/36\u001b[0m \u001b[32m━━━━━━━━━━━━━━━━━━━━\u001b[0m\u001b[37m\u001b[0m \u001b[1m0s\u001b[0m 1ms/step - accuracy: 0.7222 - loss: 0.6090 - val_accuracy: 0.7163 - val_loss: 0.6039\n",
      "Epoch 17/100\n",
      "\u001b[1m36/36\u001b[0m \u001b[32m━━━━━━━━━━━━━━━━━━━━\u001b[0m\u001b[37m\u001b[0m \u001b[1m0s\u001b[0m 1ms/step - accuracy: 0.7398 - loss: 0.5921 - val_accuracy: 0.7232 - val_loss: 0.5949\n",
      "Epoch 18/100\n",
      "\u001b[1m36/36\u001b[0m \u001b[32m━━━━━━━━━━━━━━━━━━━━\u001b[0m\u001b[37m\u001b[0m \u001b[1m0s\u001b[0m 1ms/step - accuracy: 0.7384 - loss: 0.5893 - val_accuracy: 0.7266 - val_loss: 0.5863\n",
      "Epoch 19/100\n",
      "\u001b[1m36/36\u001b[0m \u001b[32m━━━━━━━━━━━━━━━━━━━━\u001b[0m\u001b[37m\u001b[0m \u001b[1m0s\u001b[0m 1ms/step - accuracy: 0.7435 - loss: 0.5807 - val_accuracy: 0.7266 - val_loss: 0.5781\n",
      "Epoch 20/100\n",
      "\u001b[1m36/36\u001b[0m \u001b[32m━━━━━━━━━━━━━━━━━━━━\u001b[0m\u001b[37m\u001b[0m \u001b[1m0s\u001b[0m 1ms/step - accuracy: 0.7305 - loss: 0.5775 - val_accuracy: 0.7301 - val_loss: 0.5695\n",
      "Epoch 21/100\n",
      "\u001b[1m36/36\u001b[0m \u001b[32m━━━━━━━━━━━━━━━━━━━━\u001b[0m\u001b[37m\u001b[0m \u001b[1m0s\u001b[0m 2ms/step - accuracy: 0.7516 - loss: 0.5593 - val_accuracy: 0.7301 - val_loss: 0.5619\n",
      "Epoch 22/100\n",
      "\u001b[1m36/36\u001b[0m \u001b[32m━━━━━━━━━━━━━━━━━━━━\u001b[0m\u001b[37m\u001b[0m \u001b[1m0s\u001b[0m 2ms/step - accuracy: 0.7424 - loss: 0.5551 - val_accuracy: 0.7301 - val_loss: 0.5540\n",
      "Epoch 23/100\n",
      "\u001b[1m36/36\u001b[0m \u001b[32m━━━━━━━━━━━━━━━━━━━━\u001b[0m\u001b[37m\u001b[0m \u001b[1m0s\u001b[0m 1ms/step - accuracy: 0.7557 - loss: 0.5446 - val_accuracy: 0.7266 - val_loss: 0.5469\n",
      "Epoch 24/100\n",
      "\u001b[1m36/36\u001b[0m \u001b[32m━━━━━━━━━━━━━━━━━━━━\u001b[0m\u001b[37m\u001b[0m \u001b[1m0s\u001b[0m 1ms/step - accuracy: 0.7151 - loss: 0.5432 - val_accuracy: 0.7301 - val_loss: 0.5413\n",
      "Epoch 25/100\n",
      "\u001b[1m36/36\u001b[0m \u001b[32m━━━━━━━━━━━━━━━━━━━━\u001b[0m\u001b[37m\u001b[0m \u001b[1m0s\u001b[0m 1ms/step - accuracy: 0.7061 - loss: 0.5445 - val_accuracy: 0.7301 - val_loss: 0.5344\n",
      "Epoch 26/100\n",
      "\u001b[1m36/36\u001b[0m \u001b[32m━━━━━━━━━━━━━━━━━━━━\u001b[0m\u001b[37m\u001b[0m \u001b[1m0s\u001b[0m 2ms/step - accuracy: 0.7458 - loss: 0.5251 - val_accuracy: 0.7266 - val_loss: 0.5271\n",
      "Epoch 27/100\n",
      "\u001b[1m36/36\u001b[0m \u001b[32m━━━━━━━━━━━━━━━━━━━━\u001b[0m\u001b[37m\u001b[0m \u001b[1m0s\u001b[0m 2ms/step - accuracy: 0.7398 - loss: 0.5176 - val_accuracy: 0.7266 - val_loss: 0.5208\n",
      "Epoch 28/100\n",
      "\u001b[1m36/36\u001b[0m \u001b[32m━━━━━━━━━━━━━━━━━━━━\u001b[0m\u001b[37m\u001b[0m \u001b[1m0s\u001b[0m 1ms/step - accuracy: 0.7256 - loss: 0.5103 - val_accuracy: 0.7301 - val_loss: 0.5202\n",
      "Epoch 29/100\n",
      "\u001b[1m36/36\u001b[0m \u001b[32m━━━━━━━━━━━━━━━━━━━━\u001b[0m\u001b[37m\u001b[0m \u001b[1m0s\u001b[0m 1ms/step - accuracy: 0.7373 - loss: 0.4951 - val_accuracy: 0.7266 - val_loss: 0.5117\n",
      "Epoch 30/100\n",
      "\u001b[1m36/36\u001b[0m \u001b[32m━━━━━━━━━━━━━━━━━━━━\u001b[0m\u001b[37m\u001b[0m \u001b[1m0s\u001b[0m 2ms/step - accuracy: 0.7308 - loss: 0.5111 - val_accuracy: 0.7059 - val_loss: 0.5071\n",
      "Epoch 31/100\n",
      "\u001b[1m36/36\u001b[0m \u001b[32m━━━━━━━━━━━━━━━━━━━━\u001b[0m\u001b[37m\u001b[0m \u001b[1m0s\u001b[0m 2ms/step - accuracy: 0.7316 - loss: 0.5016 - val_accuracy: 0.7266 - val_loss: 0.5021\n",
      "Epoch 32/100\n",
      "\u001b[1m36/36\u001b[0m \u001b[32m━━━━━━━━━━━━━━━━━━━━\u001b[0m\u001b[37m\u001b[0m \u001b[1m0s\u001b[0m 1ms/step - accuracy: 0.7509 - loss: 0.4770 - val_accuracy: 0.7266 - val_loss: 0.4973\n",
      "Epoch 33/100\n",
      "\u001b[1m36/36\u001b[0m \u001b[32m━━━━━━━━━━━━━━━━━━━━\u001b[0m\u001b[37m\u001b[0m \u001b[1m0s\u001b[0m 1ms/step - accuracy: 0.7311 - loss: 0.4970 - val_accuracy: 0.7266 - val_loss: 0.4937\n",
      "Epoch 34/100\n",
      "\u001b[1m36/36\u001b[0m \u001b[32m━━━━━━━━━━━━━━━━━━━━\u001b[0m\u001b[37m\u001b[0m \u001b[1m0s\u001b[0m 2ms/step - accuracy: 0.7276 - loss: 0.4949 - val_accuracy: 0.7266 - val_loss: 0.4899\n",
      "Epoch 35/100\n",
      "\u001b[1m36/36\u001b[0m \u001b[32m━━━━━━━━━━━━━━━━━━━━\u001b[0m\u001b[37m\u001b[0m \u001b[1m0s\u001b[0m 2ms/step - accuracy: 0.7414 - loss: 0.4769 - val_accuracy: 0.7266 - val_loss: 0.4859\n",
      "Epoch 36/100\n",
      "\u001b[1m36/36\u001b[0m \u001b[32m━━━━━━━━━━━━━━━━━━━━\u001b[0m\u001b[37m\u001b[0m \u001b[1m0s\u001b[0m 1ms/step - accuracy: 0.7389 - loss: 0.4789 - val_accuracy: 0.7128 - val_loss: 0.4828\n",
      "Epoch 37/100\n",
      "\u001b[1m36/36\u001b[0m \u001b[32m━━━━━━━━━━━━━━━━━━━━\u001b[0m\u001b[37m\u001b[0m \u001b[1m0s\u001b[0m 1ms/step - accuracy: 0.7298 - loss: 0.4707 - val_accuracy: 0.7266 - val_loss: 0.4791\n",
      "Epoch 38/100\n",
      "\u001b[1m36/36\u001b[0m \u001b[32m━━━━━━━━━━━━━━━━━━━━\u001b[0m\u001b[37m\u001b[0m \u001b[1m0s\u001b[0m 2ms/step - accuracy: 0.7302 - loss: 0.4662 - val_accuracy: 0.7266 - val_loss: 0.4764\n",
      "Epoch 39/100\n",
      "\u001b[1m36/36\u001b[0m \u001b[32m━━━━━━━━━━━━━━━━━━━━\u001b[0m\u001b[37m\u001b[0m \u001b[1m0s\u001b[0m 1ms/step - accuracy: 0.7169 - loss: 0.4749 - val_accuracy: 0.7266 - val_loss: 0.4761\n",
      "Epoch 40/100\n",
      "\u001b[1m36/36\u001b[0m \u001b[32m━━━━━━━━━━━━━━━━━━━━\u001b[0m\u001b[37m\u001b[0m \u001b[1m0s\u001b[0m 1ms/step - accuracy: 0.7317 - loss: 0.4676 - val_accuracy: 0.7266 - val_loss: 0.4720\n",
      "Epoch 41/100\n",
      "\u001b[1m36/36\u001b[0m \u001b[32m━━━━━━━━━━━━━━━━━━━━\u001b[0m\u001b[37m\u001b[0m \u001b[1m0s\u001b[0m 2ms/step - accuracy: 0.7348 - loss: 0.4652 - val_accuracy: 0.7336 - val_loss: 0.4688\n",
      "Epoch 42/100\n",
      "\u001b[1m36/36\u001b[0m \u001b[32m━━━━━━━━━━━━━━━━━━━━\u001b[0m\u001b[37m\u001b[0m \u001b[1m0s\u001b[0m 1ms/step - accuracy: 0.7409 - loss: 0.4594 - val_accuracy: 0.7405 - val_loss: 0.4660\n",
      "Epoch 43/100\n",
      "\u001b[1m36/36\u001b[0m \u001b[32m━━━━━━━━━━━━━━━━━━━━\u001b[0m\u001b[37m\u001b[0m \u001b[1m0s\u001b[0m 1ms/step - accuracy: 0.7529 - loss: 0.4367 - val_accuracy: 0.7405 - val_loss: 0.4644\n",
      "Epoch 44/100\n",
      "\u001b[1m36/36\u001b[0m \u001b[32m━━━━━━━━━━━━━━━━━━━━\u001b[0m\u001b[37m\u001b[0m \u001b[1m0s\u001b[0m 1ms/step - accuracy: 0.7551 - loss: 0.4604 - val_accuracy: 0.7370 - val_loss: 0.4656\n",
      "Epoch 45/100\n",
      "\u001b[1m36/36\u001b[0m \u001b[32m━━━━━━━━━━━━━━━━━━━━\u001b[0m\u001b[37m\u001b[0m \u001b[1m0s\u001b[0m 1ms/step - accuracy: 0.7521 - loss: 0.4308 - val_accuracy: 0.7439 - val_loss: 0.4598\n",
      "Epoch 46/100\n",
      "\u001b[1m36/36\u001b[0m \u001b[32m━━━━━━━━━━━━━━━━━━━━\u001b[0m\u001b[37m\u001b[0m \u001b[1m0s\u001b[0m 1ms/step - accuracy: 0.7442 - loss: 0.4470 - val_accuracy: 0.7405 - val_loss: 0.4603\n",
      "Epoch 47/100\n",
      "\u001b[1m36/36\u001b[0m \u001b[32m━━━━━━━━━━━━━━━━━━━━\u001b[0m\u001b[37m\u001b[0m \u001b[1m0s\u001b[0m 1ms/step - accuracy: 0.7326 - loss: 0.4363 - val_accuracy: 0.7405 - val_loss: 0.4593\n",
      "Epoch 48/100\n",
      "\u001b[1m36/36\u001b[0m \u001b[32m━━━━━━━━━━━━━━━━━━━━\u001b[0m\u001b[37m\u001b[0m \u001b[1m0s\u001b[0m 1ms/step - accuracy: 0.7327 - loss: 0.4507 - val_accuracy: 0.7439 - val_loss: 0.4551\n",
      "Epoch 49/100\n",
      "\u001b[1m36/36\u001b[0m \u001b[32m━━━━━━━━━━━━━━━━━━━━\u001b[0m\u001b[37m\u001b[0m \u001b[1m0s\u001b[0m 1ms/step - accuracy: 0.7502 - loss: 0.4290 - val_accuracy: 0.7439 - val_loss: 0.4534\n",
      "Epoch 50/100\n",
      "\u001b[1m36/36\u001b[0m \u001b[32m━━━━━━━━━━━━━━━━━━━━\u001b[0m\u001b[37m\u001b[0m \u001b[1m0s\u001b[0m 1ms/step - accuracy: 0.7375 - loss: 0.4419 - val_accuracy: 0.7439 - val_loss: 0.4606\n",
      "Epoch 51/100\n",
      "\u001b[1m36/36\u001b[0m \u001b[32m━━━━━━━━━━━━━━━━━━━━\u001b[0m\u001b[37m\u001b[0m \u001b[1m0s\u001b[0m 1ms/step - accuracy: 0.7651 - loss: 0.4278 - val_accuracy: 0.7232 - val_loss: 0.4509\n",
      "Epoch 52/100\n",
      "\u001b[1m36/36\u001b[0m \u001b[32m━━━━━━━━━━━━━━━━━━━━\u001b[0m\u001b[37m\u001b[0m \u001b[1m0s\u001b[0m 2ms/step - accuracy: 0.7638 - loss: 0.4330 - val_accuracy: 0.7439 - val_loss: 0.4510\n",
      "Epoch 53/100\n",
      "\u001b[1m36/36\u001b[0m \u001b[32m━━━━━━━━━━━━━━━━━━━━\u001b[0m\u001b[37m\u001b[0m \u001b[1m0s\u001b[0m 1ms/step - accuracy: 0.7581 - loss: 0.4289 - val_accuracy: 0.7439 - val_loss: 0.4482\n",
      "Epoch 54/100\n",
      "\u001b[1m36/36\u001b[0m \u001b[32m━━━━━━━━━━━━━━━━━━━━\u001b[0m\u001b[37m\u001b[0m \u001b[1m0s\u001b[0m 1ms/step - accuracy: 0.7353 - loss: 0.4417 - val_accuracy: 0.7439 - val_loss: 0.4483\n",
      "Epoch 55/100\n",
      "\u001b[1m36/36\u001b[0m \u001b[32m━━━━━━━━━━━━━━━━━━━━\u001b[0m\u001b[37m\u001b[0m \u001b[1m0s\u001b[0m 1ms/step - accuracy: 0.7731 - loss: 0.4062 - val_accuracy: 0.7232 - val_loss: 0.4457\n",
      "Epoch 56/100\n",
      "\u001b[1m36/36\u001b[0m \u001b[32m━━━━━━━━━━━━━━━━━━━━\u001b[0m\u001b[37m\u001b[0m \u001b[1m0s\u001b[0m 1ms/step - accuracy: 0.7689 - loss: 0.4132 - val_accuracy: 0.7439 - val_loss: 0.4445\n",
      "Epoch 57/100\n",
      "\u001b[1m36/36\u001b[0m \u001b[32m━━━━━━━━━━━━━━━━━━━━\u001b[0m\u001b[37m\u001b[0m \u001b[1m0s\u001b[0m 1ms/step - accuracy: 0.7680 - loss: 0.4045 - val_accuracy: 0.7232 - val_loss: 0.4434\n",
      "Epoch 58/100\n",
      "\u001b[1m36/36\u001b[0m \u001b[32m━━━━━━━━━━━━━━━━━━━━\u001b[0m\u001b[37m\u001b[0m \u001b[1m0s\u001b[0m 1ms/step - accuracy: 0.7373 - loss: 0.4255 - val_accuracy: 0.7232 - val_loss: 0.4430\n",
      "Epoch 59/100\n",
      "\u001b[1m36/36\u001b[0m \u001b[32m━━━━━━━━━━━━━━━━━━━━\u001b[0m\u001b[37m\u001b[0m \u001b[1m0s\u001b[0m 1ms/step - accuracy: 0.7493 - loss: 0.4166 - val_accuracy: 0.7543 - val_loss: 0.4419\n",
      "Epoch 60/100\n",
      "\u001b[1m36/36\u001b[0m \u001b[32m━━━━━━━━━━━━━━━━━━━━\u001b[0m\u001b[37m\u001b[0m \u001b[1m0s\u001b[0m 1ms/step - accuracy: 0.7667 - loss: 0.4323 - val_accuracy: 0.7439 - val_loss: 0.4458\n",
      "Epoch 61/100\n",
      "\u001b[1m36/36\u001b[0m \u001b[32m━━━━━━━━━━━━━━━━━━━━\u001b[0m\u001b[37m\u001b[0m \u001b[1m0s\u001b[0m 1ms/step - accuracy: 0.7676 - loss: 0.4112 - val_accuracy: 0.7439 - val_loss: 0.4404\n",
      "Epoch 62/100\n",
      "\u001b[1m36/36\u001b[0m \u001b[32m━━━━━━━━━━━━━━━━━━━━\u001b[0m\u001b[37m\u001b[0m \u001b[1m0s\u001b[0m 2ms/step - accuracy: 0.7653 - loss: 0.4110 - val_accuracy: 0.7439 - val_loss: 0.4403\n",
      "Epoch 63/100\n",
      "\u001b[1m36/36\u001b[0m \u001b[32m━━━━━━━━━━━━━━━━━━━━\u001b[0m\u001b[37m\u001b[0m \u001b[1m0s\u001b[0m 1ms/step - accuracy: 0.7441 - loss: 0.4159 - val_accuracy: 0.7439 - val_loss: 0.4409\n",
      "Epoch 64/100\n",
      "\u001b[1m36/36\u001b[0m \u001b[32m━━━━━━━━━━━━━━━━━━━━\u001b[0m\u001b[37m\u001b[0m \u001b[1m0s\u001b[0m 1ms/step - accuracy: 0.7598 - loss: 0.4220 - val_accuracy: 0.7232 - val_loss: 0.4377\n",
      "Epoch 65/100\n",
      "\u001b[1m36/36\u001b[0m \u001b[32m━━━━━━━━━━━━━━━━━━━━\u001b[0m\u001b[37m\u001b[0m \u001b[1m0s\u001b[0m 1ms/step - accuracy: 0.7406 - loss: 0.4473 - val_accuracy: 0.7439 - val_loss: 0.4432\n",
      "Epoch 66/100\n",
      "\u001b[1m36/36\u001b[0m \u001b[32m━━━━━━━━━━━━━━━━━━━━\u001b[0m\u001b[37m\u001b[0m \u001b[1m0s\u001b[0m 2ms/step - accuracy: 0.7463 - loss: 0.4210 - val_accuracy: 0.7439 - val_loss: 0.4378\n",
      "Epoch 67/100\n",
      "\u001b[1m36/36\u001b[0m \u001b[32m━━━━━━━━━━━━━━━━━━━━\u001b[0m\u001b[37m\u001b[0m \u001b[1m0s\u001b[0m 1ms/step - accuracy: 0.7515 - loss: 0.3949 - val_accuracy: 0.7232 - val_loss: 0.4358\n",
      "Epoch 68/100\n",
      "\u001b[1m36/36\u001b[0m \u001b[32m━━━━━━━━━━━━━━━━━━━━\u001b[0m\u001b[37m\u001b[0m \u001b[1m0s\u001b[0m 1ms/step - accuracy: 0.7629 - loss: 0.4018 - val_accuracy: 0.7301 - val_loss: 0.4350\n",
      "Epoch 69/100\n",
      "\u001b[1m36/36\u001b[0m \u001b[32m━━━━━━━━━━━━━━━━━━━━\u001b[0m\u001b[37m\u001b[0m \u001b[1m0s\u001b[0m 1ms/step - accuracy: 0.7311 - loss: 0.4277 - val_accuracy: 0.7439 - val_loss: 0.4361\n",
      "Epoch 70/100\n",
      "\u001b[1m36/36\u001b[0m \u001b[32m━━━━━━━━━━━━━━━━━━━━\u001b[0m\u001b[37m\u001b[0m \u001b[1m0s\u001b[0m 1ms/step - accuracy: 0.7406 - loss: 0.4107 - val_accuracy: 0.7439 - val_loss: 0.4339\n",
      "Epoch 71/100\n",
      "\u001b[1m36/36\u001b[0m \u001b[32m━━━━━━━━━━━━━━━━━━━━\u001b[0m\u001b[37m\u001b[0m \u001b[1m0s\u001b[0m 2ms/step - accuracy: 0.7618 - loss: 0.4127 - val_accuracy: 0.7439 - val_loss: 0.4358\n",
      "Epoch 72/100\n",
      "\u001b[1m36/36\u001b[0m \u001b[32m━━━━━━━━━━━━━━━━━━━━\u001b[0m\u001b[37m\u001b[0m \u001b[1m0s\u001b[0m 1ms/step - accuracy: 0.7600 - loss: 0.4073 - val_accuracy: 0.7232 - val_loss: 0.4330\n",
      "Epoch 73/100\n",
      "\u001b[1m36/36\u001b[0m \u001b[32m━━━━━━━━━━━━━━━━━━━━\u001b[0m\u001b[37m\u001b[0m \u001b[1m0s\u001b[0m 1ms/step - accuracy: 0.7557 - loss: 0.4028 - val_accuracy: 0.7232 - val_loss: 0.4339\n",
      "Epoch 74/100\n",
      "\u001b[1m36/36\u001b[0m \u001b[32m━━━━━━━━━━━━━━━━━━━━\u001b[0m\u001b[37m\u001b[0m \u001b[1m0s\u001b[0m 2ms/step - accuracy: 0.7595 - loss: 0.4129 - val_accuracy: 0.7439 - val_loss: 0.4324\n",
      "Epoch 75/100\n",
      "\u001b[1m36/36\u001b[0m \u001b[32m━━━━━━━━━━━━━━━━━━━━\u001b[0m\u001b[37m\u001b[0m \u001b[1m0s\u001b[0m 2ms/step - accuracy: 0.7763 - loss: 0.3874 - val_accuracy: 0.7439 - val_loss: 0.4321\n",
      "Epoch 76/100\n",
      "\u001b[1m36/36\u001b[0m \u001b[32m━━━━━━━━━━━━━━━━━━━━\u001b[0m\u001b[37m\u001b[0m \u001b[1m0s\u001b[0m 2ms/step - accuracy: 0.7729 - loss: 0.3871 - val_accuracy: 0.7232 - val_loss: 0.4321\n",
      "Epoch 77/100\n",
      "\u001b[1m36/36\u001b[0m \u001b[32m━━━━━━━━━━━━━━━━━━━━\u001b[0m\u001b[37m\u001b[0m \u001b[1m0s\u001b[0m 2ms/step - accuracy: 0.7242 - loss: 0.4168 - val_accuracy: 0.7232 - val_loss: 0.4308\n",
      "Epoch 78/100\n",
      "\u001b[1m36/36\u001b[0m \u001b[32m━━━━━━━━━━━━━━━━━━━━\u001b[0m\u001b[37m\u001b[0m \u001b[1m0s\u001b[0m 1ms/step - accuracy: 0.7678 - loss: 0.4180 - val_accuracy: 0.7439 - val_loss: 0.4317\n",
      "Epoch 79/100\n",
      "\u001b[1m36/36\u001b[0m \u001b[32m━━━━━━━━━━━━━━━━━━━━\u001b[0m\u001b[37m\u001b[0m \u001b[1m0s\u001b[0m 1ms/step - accuracy: 0.7596 - loss: 0.3972 - val_accuracy: 0.7439 - val_loss: 0.4319\n",
      "Epoch 80/100\n",
      "\u001b[1m36/36\u001b[0m \u001b[32m━━━━━━━━━━━━━━━━━━━━\u001b[0m\u001b[37m\u001b[0m \u001b[1m0s\u001b[0m 2ms/step - accuracy: 0.7526 - loss: 0.4030 - val_accuracy: 0.7232 - val_loss: 0.4296\n",
      "Epoch 81/100\n",
      "\u001b[1m36/36\u001b[0m \u001b[32m━━━━━━━━━━━━━━━━━━━━\u001b[0m\u001b[37m\u001b[0m \u001b[1m0s\u001b[0m 2ms/step - accuracy: 0.7372 - loss: 0.4225 - val_accuracy: 0.7439 - val_loss: 0.4297\n",
      "Epoch 82/100\n",
      "\u001b[1m36/36\u001b[0m \u001b[32m━━━━━━━━━━━━━━━━━━━━\u001b[0m\u001b[37m\u001b[0m \u001b[1m0s\u001b[0m 1ms/step - accuracy: 0.7468 - loss: 0.4065 - val_accuracy: 0.7509 - val_loss: 0.4292\n",
      "Epoch 83/100\n",
      "\u001b[1m36/36\u001b[0m \u001b[32m━━━━━━━━━━━━━━━━━━━━\u001b[0m\u001b[37m\u001b[0m \u001b[1m0s\u001b[0m 2ms/step - accuracy: 0.7586 - loss: 0.3944 - val_accuracy: 0.7439 - val_loss: 0.4297\n",
      "Epoch 84/100\n",
      "\u001b[1m36/36\u001b[0m \u001b[32m━━━━━━━━━━━━━━━━━━━━\u001b[0m\u001b[37m\u001b[0m \u001b[1m0s\u001b[0m 2ms/step - accuracy: 0.7617 - loss: 0.3961 - val_accuracy: 0.7474 - val_loss: 0.4287\n",
      "Epoch 85/100\n",
      "\u001b[1m36/36\u001b[0m \u001b[32m━━━━━━━━━━━━━━━━━━━━\u001b[0m\u001b[37m\u001b[0m \u001b[1m0s\u001b[0m 1ms/step - accuracy: 0.7619 - loss: 0.4038 - val_accuracy: 0.7474 - val_loss: 0.4287\n",
      "Epoch 86/100\n",
      "\u001b[1m36/36\u001b[0m \u001b[32m━━━━━━━━━━━━━━━━━━━━\u001b[0m\u001b[37m\u001b[0m \u001b[1m0s\u001b[0m 2ms/step - accuracy: 0.7612 - loss: 0.4047 - val_accuracy: 0.7266 - val_loss: 0.4301\n",
      "Epoch 87/100\n",
      "\u001b[1m36/36\u001b[0m \u001b[32m━━━━━━━━━━━━━━━━━━━━\u001b[0m\u001b[37m\u001b[0m \u001b[1m0s\u001b[0m 2ms/step - accuracy: 0.7787 - loss: 0.3880 - val_accuracy: 0.7266 - val_loss: 0.4281\n",
      "Epoch 88/100\n",
      "\u001b[1m36/36\u001b[0m \u001b[32m━━━━━━━━━━━━━━━━━━━━\u001b[0m\u001b[37m\u001b[0m \u001b[1m0s\u001b[0m 1ms/step - accuracy: 0.7433 - loss: 0.4118 - val_accuracy: 0.7266 - val_loss: 0.4271\n",
      "Epoch 89/100\n",
      "\u001b[1m36/36\u001b[0m \u001b[32m━━━━━━━━━━━━━━━━━━━━\u001b[0m\u001b[37m\u001b[0m \u001b[1m0s\u001b[0m 1ms/step - accuracy: 0.7657 - loss: 0.3831 - val_accuracy: 0.7266 - val_loss: 0.4262\n",
      "Epoch 90/100\n",
      "\u001b[1m36/36\u001b[0m \u001b[32m━━━━━━━━━━━━━━━━━━━━\u001b[0m\u001b[37m\u001b[0m \u001b[1m0s\u001b[0m 2ms/step - accuracy: 0.7796 - loss: 0.3900 - val_accuracy: 0.7266 - val_loss: 0.4268\n",
      "Epoch 91/100\n",
      "\u001b[1m36/36\u001b[0m \u001b[32m━━━━━━━━━━━━━━━━━━━━\u001b[0m\u001b[37m\u001b[0m \u001b[1m0s\u001b[0m 1ms/step - accuracy: 0.7732 - loss: 0.4034 - val_accuracy: 0.7266 - val_loss: 0.4253\n",
      "Epoch 92/100\n",
      "\u001b[1m36/36\u001b[0m \u001b[32m━━━━━━━━━━━━━━━━━━━━\u001b[0m\u001b[37m\u001b[0m \u001b[1m0s\u001b[0m 1ms/step - accuracy: 0.7476 - loss: 0.4033 - val_accuracy: 0.7474 - val_loss: 0.4262\n",
      "Epoch 93/100\n",
      "\u001b[1m36/36\u001b[0m \u001b[32m━━━━━━━━━━━━━━━━━━━━\u001b[0m\u001b[37m\u001b[0m \u001b[1m0s\u001b[0m 2ms/step - accuracy: 0.7788 - loss: 0.3736 - val_accuracy: 0.7474 - val_loss: 0.4276\n",
      "Epoch 94/100\n",
      "\u001b[1m36/36\u001b[0m \u001b[32m━━━━━━━━━━━━━━━━━━━━\u001b[0m\u001b[37m\u001b[0m \u001b[1m0s\u001b[0m 1ms/step - accuracy: 0.7665 - loss: 0.3885 - val_accuracy: 0.7266 - val_loss: 0.4247\n",
      "Epoch 95/100\n",
      "\u001b[1m36/36\u001b[0m \u001b[32m━━━━━━━━━━━━━━━━━━━━\u001b[0m\u001b[37m\u001b[0m \u001b[1m0s\u001b[0m 1ms/step - accuracy: 0.7441 - loss: 0.4033 - val_accuracy: 0.7266 - val_loss: 0.4252\n",
      "Epoch 96/100\n",
      "\u001b[1m36/36\u001b[0m \u001b[32m━━━━━━━━━━━━━━━━━━━━\u001b[0m\u001b[37m\u001b[0m \u001b[1m0s\u001b[0m 2ms/step - accuracy: 0.7726 - loss: 0.3920 - val_accuracy: 0.7474 - val_loss: 0.4243\n",
      "Epoch 97/100\n",
      "\u001b[1m36/36\u001b[0m \u001b[32m━━━━━━━━━━━━━━━━━━━━\u001b[0m\u001b[37m\u001b[0m \u001b[1m0s\u001b[0m 1ms/step - accuracy: 0.7476 - loss: 0.4029 - val_accuracy: 0.7474 - val_loss: 0.4246\n",
      "Epoch 98/100\n",
      "\u001b[1m36/36\u001b[0m \u001b[32m━━━━━━━━━━━━━━━━━━━━\u001b[0m\u001b[37m\u001b[0m \u001b[1m0s\u001b[0m 2ms/step - accuracy: 0.7311 - loss: 0.3946 - val_accuracy: 0.7474 - val_loss: 0.4275\n",
      "Epoch 99/100\n",
      "\u001b[1m36/36\u001b[0m \u001b[32m━━━━━━━━━━━━━━━━━━━━\u001b[0m\u001b[37m\u001b[0m \u001b[1m0s\u001b[0m 1ms/step - accuracy: 0.7653 - loss: 0.3760 - val_accuracy: 0.7474 - val_loss: 0.4258\n",
      "Epoch 100/100\n",
      "\u001b[1m36/36\u001b[0m \u001b[32m━━━━━━━━━━━━━━━━━━━━\u001b[0m\u001b[37m\u001b[0m \u001b[1m0s\u001b[0m 1ms/step - accuracy: 0.7392 - loss: 0.4262 - val_accuracy: 0.7474 - val_loss: 0.4247\n"
     ]
    }
   ],
   "source": [
    "model = keras.Sequential(\n",
    "    [\n",
    "        keras.Input(shape=((ambient_feature_size+motor_feature_size),)),\n",
    "        layers.Dense(5, activation='relu'),\n",
    "        layers.Dense(5, activation='relu'),\n",
    "        layers.Dense(1, activation='sigmoid'),\n",
    "    ]\n",
    ")\n",
    "model.compile(\n",
    "    optimizer=keras.optimizers.Adam(learning_rate=0.001),\n",
    "    metrics=['accuracy'],\n",
    "    loss = 'binary_crossentropy',\n",
    ")\n",
    "history = model.fit(x_train, y_train, epochs=100, verbose=1, validation_data=(x_test, y_test))"
   ]
  },
  {
   "cell_type": "markdown",
   "id": "7cc8e548f4df0797",
   "metadata": {},
   "source": [
    "### Visualizing Output"
   ]
  },
  {
   "cell_type": "code",
   "execution_count": 23,
   "id": "42f7af5ac54856c7",
   "metadata": {
    "ExecuteTime": {
     "end_time": "2024-06-27T17:48:14.697359Z",
     "start_time": "2024-06-27T17:48:14.594659Z"
    }
   },
   "outputs": [
    {
     "name": "stdout",
     "output_type": "stream",
     "text": [
      "\u001b[1m10/10\u001b[0m \u001b[32m━━━━━━━━━━━━━━━━━━━━\u001b[0m\u001b[37m\u001b[0m \u001b[1m0s\u001b[0m 703us/step - accuracy: 0.7277 - loss: 0.4481\n",
      "test loss, test acc: [0.424679696559906, 0.7474048733711243]\n"
     ]
    }
   ],
   "source": [
    "results = model.evaluate(x_test, y_test)\n",
    "print(\"test loss, test acc:\", results)\n"
   ]
  },
  {
   "cell_type": "code",
   "execution_count": 24,
   "id": "93a6efaa",
   "metadata": {},
   "outputs": [
    {
     "data": {
      "image/png": "[encoded data removed]",
      "text/plain": [
       "<Figure size 640x480 with 1 Axes>"
      ]
     },
     "metadata": {},
     "output_type": "display_data"
    }
   ],
   "source": [
    "plt.plot(history.history['accuracy'])\n",
    "plt.plot(history.history['val_accuracy'])\n",
    "plt.title('Model accuracy')\n",
    "plt.ylabel('Accuracy')\n",
    "plt.xlabel('Epoch')\n",
    "plt.legend(['Train', 'Test'], loc='upper left')\n",
    "plt.show()"
   ]
  },
  {
   "cell_type": "code",
   "execution_count": 25,
   "id": "f0f26cc1",
   "metadata": {},
   "outputs": [
    {
     "data": {
      "image/png": "[encoded data removed]",
      "text/plain": [
       "<Figure size 640x480 with 1 Axes>"
      ]
     },
     "metadata": {},
     "output_type": "display_data"
    }
   ],
   "source": [
    "plt.plot(history.history['loss'])\n",
    "plt.plot(history.history['val_loss'])\n",
    "plt.title('Model loss')\n",
    "plt.ylabel('Loss')\n",
    "plt.xlabel('Epoch')\n",
    "plt.legend(['Train', 'Test'], loc='upper left')\n",
    "plt.show()"
   ]
  }
 ],
 "metadata": {
  "kernelspec": {
   "display_name": "Python 3",
   "language": "python",
   "name": "python3"
  },
  "language_info": {
   "codemirror_mode": {
    "name": "ipython",
    "version": 3
   },
   "file_extension": ".py",
   "mimetype": "text/x-python",
   "name": "python",
   "nbconvert_exporter": "python",
   "pygments_lexer": "ipython3",
   "version": "3.12.4"
  }
 },
 "nbformat": 4,
 "nbformat_minor": 5
}
