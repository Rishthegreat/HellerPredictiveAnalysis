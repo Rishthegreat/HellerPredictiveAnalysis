{
 "cells": [
  {
   "cell_type": "code",
   "execution_count": null,
   "metadata": {},
   "outputs": [],
   "source": [
    "import numpy as np\n",
    "import pandas as pd\n",
    "import matplotlib.pyplot as plt\n",
    "import tensorflow as tf\n",
    "from tensorflow import keras\n",
    "from sklearn.model_selection import train_test_split\n",
    "from data_preprocess import Preprocessor"
   ]
  },
  {
   "cell_type": "code",
   "execution_count": null,
   "metadata": {
    "notebookRunGroups": {
     "groupValue": "1"
    }
   },
   "outputs": [],
   "source": [
    "df_f0 = pd.read_csv(\"data/final/faulty/FaultyMotor1_20.csv\", header=None)\n",
    "df_n0 = pd.read_csv(\"data/final/normal/NormalMotor150mm_20.csv\", header=None)"
   ]
  },
  {
   "cell_type": "code",
   "execution_count": null,
   "metadata": {},
   "outputs": [],
   "source": [
    "# data, channels, sr, hz, type\n",
    "# Edit the channels, hz, and type for each dataset\n",
    "# channels: is given as a tuple of the channels to be used\n",
    "# sr: the sampling rate of the data\n",
    "# hz: the frequency of the data, given as a tuple (only one value if the hz is the same for all channels)\n",
    "# type: the type of the data, given as a string of n, f, or i for each channel. f is Faulty, n is Normal, and i is Imbalanced)\n",
    "data_df = [\n",
    "    [df_f0, (1,), 20000, (20,), \"f\"],\n",
    "    [df_n0, (0, 1, 2, 3), 20000, (30,), \"nnnn\"],\n",
    "]"
   ]
  },
  {
   "cell_type": "code",
   "execution_count": null,
   "metadata": {},
   "outputs": [],
   "source": [
    "data_interval = 4\n",
    "preprocessor = Preprocessor(max_freq=600, kaiser_beta=10)\n",
    "dataset = preprocessor.compute_preprocess(data_df, data_interval, shuffle=True, keep_channels_separate=False)"
   ]
  },
  {
   "cell_type": "code",
   "execution_count": null,
   "metadata": {},
   "outputs": [],
   "source": [
    "X_with_hz = dataset[:, :-1]\n",
    "y = dataset[:, -1]\n",
    "\n",
    "y = preprocessor.one_hot_encode(y)"
   ]
  },
  {
   "cell_type": "code",
   "execution_count": null,
   "metadata": {},
   "outputs": [],
   "source": [
    "trainXhz, testXhz, y_train, y_test = train_test_split(X_with_hz, y, test_size=0.12)\n",
    "trainXhz, valXhz, y_train, y_val = train_test_split(trainXhz, y_train, test_size=0.12)\n",
    "\n",
    "X_train = trainXhz[:, :-1]\n",
    "X_val = valXhz[:, :-1]\n",
    "X_test = testXhz[:, :-1]\n",
    "\n",
    "train_hz = trainXhz[:, -1]\n",
    "val_hz = valXhz[:, -1]\n",
    "test_hz = testXhz[:, -1]\n",
    "\n",
    "print(X_train.shape)\n",
    "print(X_val.shape)\n",
    "print(X_test.shape)\n",
    "print(y_train.shape)\n",
    "print(y_val.shape)\n",
    "print(y_test.shape)\n",
    "print(train_hz.shape)\n",
    "print(val_hz.shape)\n",
    "print(test_hz.shape)"
   ]
  },
  {
   "cell_type": "code",
   "execution_count": null,
   "metadata": {},
   "outputs": [],
   "source": [
    "# Function to reset keras so that a new model can be created without having to restart the kernel and reload all datasets\n",
    "def reset():\n",
    "    keras.backend.clear_session()\n",
    "    tf.compat.v1.reset_default_graph()\n",
    "    try:\n",
    "        del x\n",
    "        del model\n",
    "    except:\n",
    "        pass"
   ]
  },
  {
   "cell_type": "code",
   "execution_count": null,
   "metadata": {},
   "outputs": [],
   "source": [
    "reset()\n",
    "input_shape = (X_train.shape[1], 1)\n",
    "fft_input_layer = keras.Input(shape=input_shape)\n",
    "\n",
    "x = keras.layers.Conv1D(32, kernel_size=3, activation='relu', padding='same', kernel_initializer=\"he_normal\", use_bias=True)(fft_input_layer)\n",
    "x = keras.layers.MaxPooling1D(pool_size=2)(x)\n",
    "x = keras.layers.Dropout(0.4)(x)\n",
    "x = keras.layers.Conv1D(64, kernel_size=3, activation='relu', padding='same', kernel_initializer=\"he_normal\", use_bias=True)(x)\n",
    "x = keras.layers.MaxPooling1D(pool_size=2)(x)\n",
    "x = keras.layers.Dropout(0.2)(x)\n",
    "x = keras.layers.Flatten()(x)\n",
    "\n",
    "hz_input_layer = keras.Input(shape=(1,))\n",
    "combined = keras.layers.concatenate([x, hz_input_layer])\n",
    "\n",
    "x = keras.layers.Dense(64, activation='relu')(combined)\n",
    "x = keras.layers.Dropout(0.1)(x)\n",
    "x = keras.layers.Dense(32, activation='relu')(x)\n",
    "\n",
    "output_layer = keras.layers.Dense(3, activation='softmax')(x)"
   ]
  },
  {
   "cell_type": "code",
   "execution_count": null,
   "metadata": {},
   "outputs": [],
   "source": [
    "model = keras.Model(inputs=[fft_input_layer, hz_input_layer], outputs=output_layer)\n",
    "print(model.summary())"
   ]
  },
  {
   "cell_type": "code",
   "execution_count": null,
   "metadata": {},
   "outputs": [],
   "source": [
    "optimizer = tf.keras.optimizers.Adam(learning_rate=0.0001)\n",
    "loss = tf.keras.losses.CategoricalCrossentropy()\n",
    "model.compile(optimizer=optimizer, loss=loss, metrics=['accuracy'])"
   ]
  },
  {
   "cell_type": "code",
   "execution_count": null,
   "metadata": {},
   "outputs": [],
   "source": [
    "callback = keras.callbacks.EarlyStopping(monitor='val_loss', patience=5)\n",
    "history = model.fit([X_train, train_hz], y_train, epochs=40, batch_size=64, validation_data=([X_val, val_hz], y_val), shuffle=True, callbacks=[callback])"
   ]
  },
  {
   "cell_type": "code",
   "execution_count": null,
   "metadata": {},
   "outputs": [],
   "source": [
    "plt.figure(figsize=(12, 6))\n",
    "plt.plot(history.history['accuracy'], label='Accuracy')\n",
    "plt.plot(history.history['val_accuracy'], label='Validation Accuracy')\n",
    "plt.xlabel('Epochs')\n",
    "plt.ylabel('Accuracy')\n",
    "plt.title('Model Accuracy')\n",
    "plt.legend()\n",
    "plt.show()"
   ]
  },
  {
   "cell_type": "code",
   "execution_count": null,
   "metadata": {},
   "outputs": [],
   "source": [
    "plt.figure(figsize=(12, 6))\n",
    "plt.plot(history.history['loss'], label='Loss')\n",
    "plt.plot(history.history['val_loss'], label='Validation Loss')\n",
    "plt.xlabel('Epochs')\n",
    "plt.ylabel('Loss')\n",
    "plt.title('Model Loss')\n",
    "plt.legend()\n",
    "plt.show()"
   ]
  },
  {
   "cell_type": "code",
   "execution_count": null,
   "metadata": {},
   "outputs": [],
   "source": [
    "model.evaluate([X_test, test_hz], y_test)"
   ]
  },
  {
   "cell_type": "code",
   "execution_count": null,
   "metadata": {},
   "outputs": [],
   "source": [
    "z = model.predict([X_test, test_hz])\n",
    "side_by_side = np.concatenate((z, y_test), axis=1)\n",
    "side_by_side = np.round(side_by_side, 2)\n",
    "print(side_by_side)"
   ]
  },
  {
   "cell_type": "code",
   "execution_count": null,
   "metadata": {},
   "outputs": [],
   "source": [
    "model.save('models/cnn_mapping_model_test6_dropout_5.keras')"
   ]
  }
 ],
 "metadata": {
  "kernelspec": {
   "display_name": "venv",
   "language": "python",
   "name": "python3"
  },
  "language_info": {
   "codemirror_mode": {
    "name": "ipython",
    "version": 3
   },
   "file_extension": ".py",
   "mimetype": "text/x-python",
   "name": "python",
   "nbconvert_exporter": "python",
   "pygments_lexer": "ipython3",
   "version": "3.12.4"
  }
 },
 "nbformat": 4,
 "nbformat_minor": 2
}
